{
 "cells": [
  {
   "cell_type": "code",
   "execution_count": 87,
   "metadata": {
    "colab": {
     "base_uri": "https://localhost:8080/",
     "height": 510
    },
    "colab_type": "code",
    "id": "_QBsjfYL_uq3",
    "outputId": "18c9af62-df30-4c47-9b3a-27711c1961c7"
   },
   "outputs": [
    {
     "name": "stderr",
     "output_type": "stream",
     "text": [
      "[nltk_data] Downloading package stopwords to\n",
      "[nltk_data]     C:\\Users\\agnal\\AppData\\Roaming\\nltk_data...\n",
      "[nltk_data]   Package stopwords is already up-to-date!\n",
      "[nltk_data] Downloading package rslp to\n",
      "[nltk_data]     C:\\Users\\agnal\\AppData\\Roaming\\nltk_data...\n",
      "[nltk_data]   Package rslp is already up-to-date!\n"
     ]
    }
   ],
   "source": [
    "import pandas as pd\n",
    "import seaborn as sns\n",
    "import nltk\n",
    "from nltk.corpus import stopwords\n",
    "from nltk.tokenize import RegexpTokenizer\n",
    "from nltk.stem import RSLPStemmer\n",
    "nltk.download('stopwords')\n",
    "nltk.download('rslp')\n",
    "import matplotlib.pyplot as plt\n",
    "import heapq\n",
    "import time\n",
    "import collections\n",
    "import re\n",
    "\n",
    "db = pd.read_csv(\"results.csv\")\n",
    "\n",
    "documents = db['text']\n",
    "stopwords = stopwords.words(\"portuguese\")"
   ]
  },
  {
   "cell_type": "markdown",
   "metadata": {
    "colab_type": "text",
    "id": "eRLA0meuCpLv"
   },
   "source": [
    "Questão 01) Execute o algoritmo ilustrado na Fig. 5.8 do livro texto (pag. 157) para gerar um índice similar o mostrado na Fig. 5.4 (pag. 134). Guarde o índice em disco em formato csv."
   ]
  },
  {
   "cell_type": "code",
   "execution_count": 88,
   "metadata": {
    "colab": {},
    "colab_type": "code",
    "id": "CADAliveCzLZ"
   },
   "outputs": [],
   "source": [
    "toker = RegexpTokenizer(r'\\b[A-zÀ-ú\\d\\-\\']+')\n",
    "inverted_list = {}\n",
    "n = 0\n",
    "\n",
    "for document in documents:\n",
    "    n += 1\n",
    "    tokens = toker.tokenize(document.lower())\n",
    "    for token in set(tokens):\n",
    "        if (token not in stopwords and len(token) >= 2):\n",
    "            count = (n, tokens.count(token))\n",
    "            if (token not in inverted_list.keys()):\n",
    "                  inverted_list[token] = []\n",
    "                  inverted_list[token].append(count)\n",
    "            else:\n",
    "                  inverted_list[token].append(count)\n",
    "                \n",
    "                \n",
    "inverted_index_df = pd.DataFrame.from_dict(inverted_list, orient=\"index\")\n",
    "inverted_index_df.to_csv('data.csv')\n",
    "inverted_index = inverted_list"
   ]
  },
  {
   "cell_type": "markdown",
   "metadata": {
    "colab_type": "text",
    "id": "iz6Od66IDxpV"
   },
   "source": [
    "2. Implemente as abordagens de processamento de consulta documento-por-vez e termo-por-vez (Fig. 5.16 e 5.18)."
   ]
  },
  {
   "cell_type": "code",
   "execution_count": 89,
   "metadata": {
    "colab": {},
    "colab_type": "code",
    "id": "3H20wIFbD9IY"
   },
   "outputs": [
    {
     "data": {
      "text/plain": [
       "[(9, 69),\n",
       " (7, 235),\n",
       " (7, 166),\n",
       " (6, 204),\n",
       " (5, 173),\n",
       " (5, 165),\n",
       " (5, 152),\n",
       " (5, 138),\n",
       " (5, 63),\n",
       " (4, 221)]"
      ]
     },
     "execution_count": 89,
     "metadata": {},
     "output_type": "execute_result"
    }
   ],
   "source": [
    "def document_at_time(query, inverted_index, k):\n",
    "    inverted_lists = []\n",
    "\n",
    "    r = []\n",
    "    for word in query.split(\" \"):\n",
    "        if word in inverted_index.keys():\n",
    "            inverted_lists.append(inverted_index[word])\n",
    "    for document in range(1, len(documents)+1):\n",
    "        sd = 0\n",
    "        for inverted_list in inverted_lists:\n",
    "            for i in inverted_list:\n",
    "                if (i[0] == document):\n",
    "                    sd += i[1]\n",
    "                    break\n",
    "        if (sd != 0):\n",
    "          heapq.heappush(r, (sd, document))\n",
    "    return heapq.nlargest(k, r)\n",
    "document_at_time(\"política\", inverted_index, 10)"
   ]
  },
  {
   "cell_type": "markdown",
   "metadata": {
    "colab_type": "text",
    "id": "F6YnPcNUEE4l"
   },
   "source": [
    "Term a time\n"
   ]
  },
  {
   "cell_type": "code",
   "execution_count": 90,
   "metadata": {
    "colab": {},
    "colab_type": "code",
    "id": "-U3bs3z5EPqj"
   },
   "outputs": [
    {
     "data": {
      "text/plain": [
       "[(9, 69),\n",
       " (7, 235),\n",
       " (7, 166),\n",
       " (6, 204),\n",
       " (5, 173),\n",
       " (5, 165),\n",
       " (5, 152),\n",
       " (5, 138),\n",
       " (5, 63),\n",
       " (4, 221)]"
      ]
     },
     "execution_count": 90,
     "metadata": {},
     "output_type": "execute_result"
    }
   ],
   "source": [
    "def term_at_time(query, inverted_index, k):\n",
    "    \n",
    "    a = {}\n",
    "    inverted_lists = []\n",
    "    r = []\n",
    "    for word in query.split(\" \"):\n",
    "        if word in inverted_index.keys():\n",
    "            inverted_lists.append(inverted_index[word])\n",
    "    for inverted_list in inverted_lists:\n",
    "        for post in inverted_list:\n",
    "            d = post[0]\n",
    "            freq = post[1]\n",
    "            if (d in a.keys()):\n",
    "                a[d] += freq\n",
    "            else:\n",
    "                a[d] = freq\n",
    "    for (d, ad) in a.items():\n",
    "        sd = ad\n",
    "        heapq.heappush(r, (sd, d))\n",
    "    return heapq.nlargest(k, r)\n",
    "term_at_time(\"política\", inverted_index, 10)"
   ]
  },
  {
   "cell_type": "markdown",
   "metadata": {
    "colab_type": "text",
    "id": "2gLr1Eh6EWqs"
   },
   "source": [
    "Defina 5 consultas de um termo somente."
   ]
  },
  {
   "cell_type": "code",
   "execution_count": 91,
   "metadata": {
    "colab": {},
    "colab_type": "code",
    "id": "Ush6hJmHEZs9"
   },
   "outputs": [],
   "source": [
    "queries = [\"política\", \"presidente\", \"ministério\", \"brasil\", \"economia\"]\n"
   ]
  },
  {
   "cell_type": "markdown",
   "metadata": {
    "colab_type": "text",
    "id": "LVYODbSSE5wF"
   },
   "source": [
    "Execute as 5 consultas em cada algoritmo retornando os top-10 documentos (parâmetro k do algoritmo)"
   ]
  },
  {
   "cell_type": "code",
   "execution_count": 92,
   "metadata": {
    "colab": {},
    "colab_type": "code",
    "id": "T06r4Ht_FEuD"
   },
   "outputs": [
    {
     "data": {
      "text/html": [
       "<div>\n",
       "<style scoped>\n",
       "    .dataframe tbody tr th:only-of-type {\n",
       "        vertical-align: middle;\n",
       "    }\n",
       "\n",
       "    .dataframe tbody tr th {\n",
       "        vertical-align: top;\n",
       "    }\n",
       "\n",
       "    .dataframe thead th {\n",
       "        text-align: right;\n",
       "    }\n",
       "</style>\n",
       "<table border=\"1\" class=\"dataframe\">\n",
       "  <thead>\n",
       "    <tr style=\"text-align: right;\">\n",
       "      <th></th>\n",
       "      <th>query</th>\n",
       "      <th>document_at_a_time</th>\n",
       "      <th>term_at_a_time</th>\n",
       "      <th>compare</th>\n",
       "    </tr>\n",
       "  </thead>\n",
       "  <tbody>\n",
       "    <tr>\n",
       "      <th>0</th>\n",
       "      <td>política</td>\n",
       "      <td>[(9, 69), (7, 235), (7, 166), (6, 204), (5, 17...</td>\n",
       "      <td>[(9, 69), (7, 235), (7, 166), (6, 204), (5, 17...</td>\n",
       "      <td>True</td>\n",
       "    </tr>\n",
       "    <tr>\n",
       "      <th>1</th>\n",
       "      <td>presidente</td>\n",
       "      <td>[(16, 166), (15, 63), (12, 151), (11, 216), (1...</td>\n",
       "      <td>[(16, 166), (15, 63), (12, 151), (11, 216), (1...</td>\n",
       "      <td>True</td>\n",
       "    </tr>\n",
       "    <tr>\n",
       "      <th>2</th>\n",
       "      <td>ministério</td>\n",
       "      <td>[(8, 221), (7, 124), (7, 115), (4, 203), (3, 2...</td>\n",
       "      <td>[(8, 221), (7, 124), (7, 115), (4, 203), (3, 2...</td>\n",
       "      <td>True</td>\n",
       "    </tr>\n",
       "    <tr>\n",
       "      <th>3</th>\n",
       "      <td>brasil</td>\n",
       "      <td>[(47, 151), (15, 166), (11, 19), (10, 26), (9,...</td>\n",
       "      <td>[(47, 151), (15, 166), (11, 19), (10, 26), (9,...</td>\n",
       "      <td>True</td>\n",
       "    </tr>\n",
       "    <tr>\n",
       "      <th>4</th>\n",
       "      <td>economia</td>\n",
       "      <td>[(10, 138), (8, 125), (6, 127), (6, 69), (6, 3...</td>\n",
       "      <td>[(10, 138), (8, 125), (6, 127), (6, 69), (6, 3...</td>\n",
       "      <td>True</td>\n",
       "    </tr>\n",
       "  </tbody>\n",
       "</table>\n",
       "</div>"
      ],
      "text/plain": [
       "        query                                 document_at_a_time  \\\n",
       "0    política  [(9, 69), (7, 235), (7, 166), (6, 204), (5, 17...   \n",
       "1  presidente  [(16, 166), (15, 63), (12, 151), (11, 216), (1...   \n",
       "2  ministério  [(8, 221), (7, 124), (7, 115), (4, 203), (3, 2...   \n",
       "3      brasil  [(47, 151), (15, 166), (11, 19), (10, 26), (9,...   \n",
       "4    economia  [(10, 138), (8, 125), (6, 127), (6, 69), (6, 3...   \n",
       "\n",
       "                                      term_at_a_time  compare  \n",
       "0  [(9, 69), (7, 235), (7, 166), (6, 204), (5, 17...     True  \n",
       "1  [(16, 166), (15, 63), (12, 151), (11, 216), (1...     True  \n",
       "2  [(8, 221), (7, 124), (7, 115), (4, 203), (3, 2...     True  \n",
       "3  [(47, 151), (15, 166), (11, 19), (10, 26), (9,...     True  \n",
       "4  [(10, 138), (8, 125), (6, 127), (6, 69), (6, 3...     True  "
      ]
     },
     "execution_count": 92,
     "metadata": {},
     "output_type": "execute_result"
    }
   ],
   "source": [
    "results_document = []\n",
    "results_term = []\n",
    "time_results_document = []\n",
    "time_results_term = []\n",
    "k = 10\n",
    "\n",
    "for query in queries:\n",
    "  init_document = time.time()\n",
    "  results_document.append(document_at_time(query, inverted_index, k))\n",
    "  end_document = time.time()\n",
    "  time_results_document.append(end_document - init_document)\n",
    "  \n",
    "  init_term = time.time()\n",
    "  results_term.append(term_at_time(query, inverted_index, k))\n",
    "  end_term = time.time()\n",
    "  time_results_term.append(end_term - init_term)\n",
    "\n",
    "queries_df = pd.DataFrame()\n",
    "queries_df['query'] = queries\n",
    "queries_df['document_at_a_time'] = results_document\n",
    "queries_df['term_at_a_time'] = results_term\n",
    "queries_df['compare'] = queries_df.document_at_a_time == queries_df.term_at_a_time\n",
    "queries_df"
   ]
  },
  {
   "cell_type": "markdown",
   "metadata": {
    "colab_type": "text",
    "id": "vH_XDua4FLI1"
   },
   "source": [
    "Compare os tempos médios de execução e uso de memória de cada algoritmo\n"
   ]
  },
  {
   "cell_type": "code",
   "execution_count": 93,
   "metadata": {
    "colab": {},
    "colab_type": "code",
    "id": "9hUJ0m4-FNvb"
   },
   "outputs": [
    {
     "data": {
      "text/html": [
       "<div>\n",
       "<style scoped>\n",
       "    .dataframe tbody tr th:only-of-type {\n",
       "        vertical-align: middle;\n",
       "    }\n",
       "\n",
       "    .dataframe tbody tr th {\n",
       "        vertical-align: top;\n",
       "    }\n",
       "\n",
       "    .dataframe thead th {\n",
       "        text-align: right;\n",
       "    }\n",
       "</style>\n",
       "<table border=\"1\" class=\"dataframe\">\n",
       "  <thead>\n",
       "    <tr style=\"text-align: right;\">\n",
       "      <th></th>\n",
       "      <th>tempo_médio_document_at_a_time</th>\n",
       "      <th>tempo_médio_term_at_a_time</th>\n",
       "    </tr>\n",
       "  </thead>\n",
       "  <tbody>\n",
       "    <tr>\n",
       "      <th>0</th>\n",
       "      <td>0.001993</td>\n",
       "      <td>0.0</td>\n",
       "    </tr>\n",
       "    <tr>\n",
       "      <th>1</th>\n",
       "      <td>0.000997</td>\n",
       "      <td>0.0</td>\n",
       "    </tr>\n",
       "    <tr>\n",
       "      <th>2</th>\n",
       "      <td>0.000997</td>\n",
       "      <td>0.0</td>\n",
       "    </tr>\n",
       "    <tr>\n",
       "      <th>3</th>\n",
       "      <td>0.000997</td>\n",
       "      <td>0.0</td>\n",
       "    </tr>\n",
       "    <tr>\n",
       "      <th>4</th>\n",
       "      <td>0.000997</td>\n",
       "      <td>0.0</td>\n",
       "    </tr>\n",
       "  </tbody>\n",
       "</table>\n",
       "</div>"
      ],
      "text/plain": [
       "   tempo_médio_document_at_a_time  tempo_médio_term_at_a_time\n",
       "0                        0.001993                         0.0\n",
       "1                        0.000997                         0.0\n",
       "2                        0.000997                         0.0\n",
       "3                        0.000997                         0.0\n",
       "4                        0.000997                         0.0"
      ]
     },
     "execution_count": 93,
     "metadata": {},
     "output_type": "execute_result"
    }
   ],
   "source": [
    "queries_tempo_df = pd.DataFrame()\n",
    "queries_tempo_df['tempo_médio_document_at_a_time'] = time_results_document\n",
    "queries_tempo_df['tempo_médio_term_at_a_time'] = time_results_term\n",
    "queries_tempo_df"
   ]
  },
  {
   "cell_type": "markdown",
   "metadata": {
    "colab_type": "text",
    "id": "gCx-RVF7F36u"
   },
   "source": [
    "3. Implemente uma das versões de consulta conjuntiva (AND) (Fig. 5.20 ou 5.21).¶\n"
   ]
  },
  {
   "cell_type": "code",
   "execution_count": 94,
   "metadata": {
    "colab": {},
    "colab_type": "code",
    "id": "GqDBLLBOF4od"
   },
   "outputs": [],
   "source": [
    "def conj_query(query, inverted_index, k):\n",
    "  \n",
    "  query_indexes = [] \n",
    "  rank = [] \n",
    "  \n",
    "  for word in query.split(\" \"):\n",
    "    if word in inverted_index.keys():\n",
    "        query_indexes.append(inverted_index[word])\n",
    "  \n",
    "  all_indexes = [item for sublist in query_indexes for item in sublist]\n",
    "  all_indexes.sort() \n",
    "  \n",
    "  for i in range(len(all_indexes)):\n",
    "    doc_score = 0\n",
    "    d = all_indexes.pop()\n",
    "    repeat = 1\n",
    "    for index in all_indexes:\n",
    "      if index[0] == d[0]:\n",
    "        doc_score += index[1]\n",
    "        repeat += 1\n",
    "    if doc_score != 0 and repeat == len(query_indexes):\n",
    "      doc_score += d[1]\n",
    "      heapq.heappush(rank, (doc_score, d[0]))\n",
    "        \n",
    "  return heapq.nlargest(k, rank)"
   ]
  },
  {
   "cell_type": "code",
   "execution_count": 95,
   "metadata": {
    "colab": {},
    "colab_type": "code",
    "id": "wFYNMAsYF9zw"
   },
   "outputs": [],
   "source": [
    "queries_conj = [\"decisão sobre\", \"ministro paulo\", \"brasil país\", \"jair bolsonaro\", \"presidente disse\"]\n"
   ]
  },
  {
   "cell_type": "code",
   "execution_count": 96,
   "metadata": {
    "colab": {},
    "colab_type": "code",
    "id": "k10h0kfWGEmR"
   },
   "outputs": [],
   "source": [
    "k = 10\n",
    "results_conj = []\n",
    "\n",
    "for query in queries_conj:\n",
    "  score_conj = conj_query(query, inverted_index, k)\n",
    "  results_conj.append(score_conj)"
   ]
  },
  {
   "cell_type": "code",
   "execution_count": 97,
   "metadata": {
    "colab": {},
    "colab_type": "code",
    "id": "8U40b11sGFSR"
   },
   "outputs": [
    {
     "data": {
      "text/html": [
       "<div>\n",
       "<style scoped>\n",
       "    .dataframe tbody tr th:only-of-type {\n",
       "        vertical-align: middle;\n",
       "    }\n",
       "\n",
       "    .dataframe tbody tr th {\n",
       "        vertical-align: top;\n",
       "    }\n",
       "\n",
       "    .dataframe thead th {\n",
       "        text-align: right;\n",
       "    }\n",
       "</style>\n",
       "<table border=\"1\" class=\"dataframe\">\n",
       "  <thead>\n",
       "    <tr style=\"text-align: right;\">\n",
       "      <th></th>\n",
       "      <th>Query</th>\n",
       "      <th>Results</th>\n",
       "    </tr>\n",
       "  </thead>\n",
       "  <tbody>\n",
       "    <tr>\n",
       "      <th>1</th>\n",
       "      <td>decisão sobre</td>\n",
       "      <td>[(12, 206), (10, 202), (10, 69), (10, 17), (7,...</td>\n",
       "    </tr>\n",
       "    <tr>\n",
       "      <th>2</th>\n",
       "      <td>ministro paulo</td>\n",
       "      <td>[(12, 240), (12, 209), (10, 215), (7, 151), (6...</td>\n",
       "    </tr>\n",
       "    <tr>\n",
       "      <th>3</th>\n",
       "      <td>brasil país</td>\n",
       "      <td>[(65, 151), (26, 166), (18, 173), (17, 19), (1...</td>\n",
       "    </tr>\n",
       "    <tr>\n",
       "      <th>4</th>\n",
       "      <td>jair bolsonaro</td>\n",
       "      <td>[(52, 151), (48, 207), (39, 166), (12, 216), (...</td>\n",
       "    </tr>\n",
       "    <tr>\n",
       "      <th>5</th>\n",
       "      <td>presidente disse</td>\n",
       "      <td>[(21, 63), (19, 166), (14, 19), (13, 235), (13...</td>\n",
       "    </tr>\n",
       "  </tbody>\n",
       "</table>\n",
       "</div>"
      ],
      "text/plain": [
       "              Query                                            Results\n",
       "1     decisão sobre  [(12, 206), (10, 202), (10, 69), (10, 17), (7,...\n",
       "2    ministro paulo  [(12, 240), (12, 209), (10, 215), (7, 151), (6...\n",
       "3       brasil país  [(65, 151), (26, 166), (18, 173), (17, 19), (1...\n",
       "4    jair bolsonaro  [(52, 151), (48, 207), (39, 166), (12, 216), (...\n",
       "5  presidente disse  [(21, 63), (19, 166), (14, 19), (13, 235), (13..."
      ]
     },
     "execution_count": 97,
     "metadata": {},
     "output_type": "execute_result"
    }
   ],
   "source": [
    "conj_queries_df = pd.DataFrame()\n",
    "conj_queries_df['Query'] = queries_conj\n",
    "conj_queries_df['Results'] = results_conj\n",
    "conj_queries_df.index+=1\n",
    "conj_queries_df"
   ]
  }
 ],
 "metadata": {
  "colab": {
   "name": "Lab_Indexacao.ipynb",
   "provenance": [],
   "version": "0.3.2"
  },
  "kernelspec": {
   "display_name": "Python 3",
   "language": "python",
   "name": "python3"
  }
 },
 "nbformat": 4,
 "nbformat_minor": 1
}
